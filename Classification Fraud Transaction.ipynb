{
 "cells": [
  {
   "cell_type": "code",
   "execution_count": 1,
   "metadata": {},
   "outputs": [],
   "source": [
    "import pandas as pd\n",
    "import numpy as np\n",
    "import matplotlib.pyplot as plt\n",
    "import seaborn as sns\n",
    "import warnings\n",
    "warnings.filterwarnings('ignore')\n",
    "\n",
    "%matplotlib inline"
   ]
  },
  {
   "cell_type": "code",
   "execution_count": 2,
   "metadata": {},
   "outputs": [
    {
     "data": {
      "text/html": [
       "<div>\n",
       "<style scoped>\n",
       "    .dataframe tbody tr th:only-of-type {\n",
       "        vertical-align: middle;\n",
       "    }\n",
       "\n",
       "    .dataframe tbody tr th {\n",
       "        vertical-align: top;\n",
       "    }\n",
       "\n",
       "    .dataframe thead th {\n",
       "        text-align: right;\n",
       "    }\n",
       "</style>\n",
       "<table border=\"1\" class=\"dataframe\">\n",
       "  <thead>\n",
       "    <tr style=\"text-align: right;\">\n",
       "      <th></th>\n",
       "      <th>step</th>\n",
       "      <th>type</th>\n",
       "      <th>amount</th>\n",
       "      <th>nameOrig</th>\n",
       "      <th>oldbalanceOrg</th>\n",
       "      <th>newbalanceOrig</th>\n",
       "      <th>nameDest</th>\n",
       "      <th>oldbalanceDest</th>\n",
       "      <th>newbalanceDest</th>\n",
       "      <th>isFraud</th>\n",
       "      <th>isFlaggedFraud</th>\n",
       "    </tr>\n",
       "  </thead>\n",
       "  <tbody>\n",
       "    <tr>\n",
       "      <th>0</th>\n",
       "      <td>1</td>\n",
       "      <td>PAYMENT</td>\n",
       "      <td>9839.64</td>\n",
       "      <td>C1231006815</td>\n",
       "      <td>170136.0</td>\n",
       "      <td>160296.36</td>\n",
       "      <td>M1979787155</td>\n",
       "      <td>0.0</td>\n",
       "      <td>0.0</td>\n",
       "      <td>0</td>\n",
       "      <td>0</td>\n",
       "    </tr>\n",
       "    <tr>\n",
       "      <th>1</th>\n",
       "      <td>1</td>\n",
       "      <td>PAYMENT</td>\n",
       "      <td>1864.28</td>\n",
       "      <td>C1666544295</td>\n",
       "      <td>21249.0</td>\n",
       "      <td>19384.72</td>\n",
       "      <td>M2044282225</td>\n",
       "      <td>0.0</td>\n",
       "      <td>0.0</td>\n",
       "      <td>0</td>\n",
       "      <td>0</td>\n",
       "    </tr>\n",
       "    <tr>\n",
       "      <th>2</th>\n",
       "      <td>1</td>\n",
       "      <td>TRANSFER</td>\n",
       "      <td>181.00</td>\n",
       "      <td>C1305486145</td>\n",
       "      <td>181.0</td>\n",
       "      <td>0.00</td>\n",
       "      <td>C553264065</td>\n",
       "      <td>0.0</td>\n",
       "      <td>0.0</td>\n",
       "      <td>1</td>\n",
       "      <td>0</td>\n",
       "    </tr>\n",
       "    <tr>\n",
       "      <th>3</th>\n",
       "      <td>1</td>\n",
       "      <td>CASH_OUT</td>\n",
       "      <td>181.00</td>\n",
       "      <td>C840083671</td>\n",
       "      <td>181.0</td>\n",
       "      <td>0.00</td>\n",
       "      <td>C38997010</td>\n",
       "      <td>21182.0</td>\n",
       "      <td>0.0</td>\n",
       "      <td>1</td>\n",
       "      <td>0</td>\n",
       "    </tr>\n",
       "    <tr>\n",
       "      <th>4</th>\n",
       "      <td>1</td>\n",
       "      <td>PAYMENT</td>\n",
       "      <td>11668.14</td>\n",
       "      <td>C2048537720</td>\n",
       "      <td>41554.0</td>\n",
       "      <td>29885.86</td>\n",
       "      <td>M1230701703</td>\n",
       "      <td>0.0</td>\n",
       "      <td>0.0</td>\n",
       "      <td>0</td>\n",
       "      <td>0</td>\n",
       "    </tr>\n",
       "  </tbody>\n",
       "</table>\n",
       "</div>"
      ],
      "text/plain": [
       "   step      type    amount     nameOrig  oldbalanceOrg  newbalanceOrig  \\\n",
       "0     1   PAYMENT   9839.64  C1231006815       170136.0       160296.36   \n",
       "1     1   PAYMENT   1864.28  C1666544295        21249.0        19384.72   \n",
       "2     1  TRANSFER    181.00  C1305486145          181.0            0.00   \n",
       "3     1  CASH_OUT    181.00   C840083671          181.0            0.00   \n",
       "4     1   PAYMENT  11668.14  C2048537720        41554.0        29885.86   \n",
       "\n",
       "      nameDest  oldbalanceDest  newbalanceDest  isFraud  isFlaggedFraud  \n",
       "0  M1979787155             0.0             0.0        0               0  \n",
       "1  M2044282225             0.0             0.0        0               0  \n",
       "2   C553264065             0.0             0.0        1               0  \n",
       "3    C38997010         21182.0             0.0        1               0  \n",
       "4  M1230701703             0.0             0.0        0               0  "
      ]
     },
     "execution_count": 2,
     "metadata": {},
     "output_type": "execute_result"
    }
   ],
   "source": [
    "df = pd.read_csv('PS_20174392719_1491204439457_log.csv')\n",
    "df.head()"
   ]
  },
  {
   "cell_type": "code",
   "execution_count": 3,
   "metadata": {},
   "outputs": [
    {
     "data": {
      "text/html": [
       "<div>\n",
       "<style scoped>\n",
       "    .dataframe tbody tr th:only-of-type {\n",
       "        vertical-align: middle;\n",
       "    }\n",
       "\n",
       "    .dataframe tbody tr th {\n",
       "        vertical-align: top;\n",
       "    }\n",
       "\n",
       "    .dataframe thead th {\n",
       "        text-align: right;\n",
       "    }\n",
       "</style>\n",
       "<table border=\"1\" class=\"dataframe\">\n",
       "  <thead>\n",
       "    <tr style=\"text-align: right;\">\n",
       "      <th></th>\n",
       "      <th>step</th>\n",
       "      <th>type</th>\n",
       "      <th>amount</th>\n",
       "      <th>nameOrig</th>\n",
       "      <th>oldbalanceOrg</th>\n",
       "      <th>newbalanceOrig</th>\n",
       "      <th>nameDest</th>\n",
       "      <th>oldbalanceDest</th>\n",
       "      <th>newbalanceDest</th>\n",
       "      <th>isFraud</th>\n",
       "      <th>isFlaggedFraud</th>\n",
       "    </tr>\n",
       "  </thead>\n",
       "  <tbody>\n",
       "    <tr>\n",
       "      <th>2736447</th>\n",
       "      <td>212</td>\n",
       "      <td>CASH_OUT</td>\n",
       "      <td>0.0</td>\n",
       "      <td>C1510987794</td>\n",
       "      <td>0.0</td>\n",
       "      <td>0.0</td>\n",
       "      <td>C1696624817</td>\n",
       "      <td>0.00</td>\n",
       "      <td>0.00</td>\n",
       "      <td>1</td>\n",
       "      <td>0</td>\n",
       "    </tr>\n",
       "    <tr>\n",
       "      <th>3247298</th>\n",
       "      <td>250</td>\n",
       "      <td>CASH_OUT</td>\n",
       "      <td>0.0</td>\n",
       "      <td>C521393327</td>\n",
       "      <td>0.0</td>\n",
       "      <td>0.0</td>\n",
       "      <td>C480398193</td>\n",
       "      <td>0.00</td>\n",
       "      <td>0.00</td>\n",
       "      <td>1</td>\n",
       "      <td>0</td>\n",
       "    </tr>\n",
       "    <tr>\n",
       "      <th>3760289</th>\n",
       "      <td>279</td>\n",
       "      <td>CASH_OUT</td>\n",
       "      <td>0.0</td>\n",
       "      <td>C539112012</td>\n",
       "      <td>0.0</td>\n",
       "      <td>0.0</td>\n",
       "      <td>C1106468520</td>\n",
       "      <td>538547.63</td>\n",
       "      <td>538547.63</td>\n",
       "      <td>1</td>\n",
       "      <td>0</td>\n",
       "    </tr>\n",
       "    <tr>\n",
       "      <th>5563714</th>\n",
       "      <td>387</td>\n",
       "      <td>CASH_OUT</td>\n",
       "      <td>0.0</td>\n",
       "      <td>C1294472700</td>\n",
       "      <td>0.0</td>\n",
       "      <td>0.0</td>\n",
       "      <td>C1325541393</td>\n",
       "      <td>7970766.57</td>\n",
       "      <td>7970766.57</td>\n",
       "      <td>1</td>\n",
       "      <td>0</td>\n",
       "    </tr>\n",
       "    <tr>\n",
       "      <th>5996408</th>\n",
       "      <td>425</td>\n",
       "      <td>CASH_OUT</td>\n",
       "      <td>0.0</td>\n",
       "      <td>C832555372</td>\n",
       "      <td>0.0</td>\n",
       "      <td>0.0</td>\n",
       "      <td>C1462759334</td>\n",
       "      <td>76759.90</td>\n",
       "      <td>76759.90</td>\n",
       "      <td>1</td>\n",
       "      <td>0</td>\n",
       "    </tr>\n",
       "    <tr>\n",
       "      <th>5996410</th>\n",
       "      <td>425</td>\n",
       "      <td>CASH_OUT</td>\n",
       "      <td>0.0</td>\n",
       "      <td>C69493310</td>\n",
       "      <td>0.0</td>\n",
       "      <td>0.0</td>\n",
       "      <td>C719711728</td>\n",
       "      <td>2921531.34</td>\n",
       "      <td>2921531.34</td>\n",
       "      <td>1</td>\n",
       "      <td>0</td>\n",
       "    </tr>\n",
       "    <tr>\n",
       "      <th>6168500</th>\n",
       "      <td>554</td>\n",
       "      <td>CASH_OUT</td>\n",
       "      <td>0.0</td>\n",
       "      <td>C10965156</td>\n",
       "      <td>0.0</td>\n",
       "      <td>0.0</td>\n",
       "      <td>C1493336195</td>\n",
       "      <td>230289.66</td>\n",
       "      <td>230289.66</td>\n",
       "      <td>1</td>\n",
       "      <td>0</td>\n",
       "    </tr>\n",
       "    <tr>\n",
       "      <th>6205440</th>\n",
       "      <td>586</td>\n",
       "      <td>CASH_OUT</td>\n",
       "      <td>0.0</td>\n",
       "      <td>C1303719003</td>\n",
       "      <td>0.0</td>\n",
       "      <td>0.0</td>\n",
       "      <td>C900608348</td>\n",
       "      <td>1328472.86</td>\n",
       "      <td>1328472.86</td>\n",
       "      <td>1</td>\n",
       "      <td>0</td>\n",
       "    </tr>\n",
       "    <tr>\n",
       "      <th>6266414</th>\n",
       "      <td>617</td>\n",
       "      <td>CASH_OUT</td>\n",
       "      <td>0.0</td>\n",
       "      <td>C1971175979</td>\n",
       "      <td>0.0</td>\n",
       "      <td>0.0</td>\n",
       "      <td>C1352345416</td>\n",
       "      <td>0.00</td>\n",
       "      <td>0.00</td>\n",
       "      <td>1</td>\n",
       "      <td>0</td>\n",
       "    </tr>\n",
       "    <tr>\n",
       "      <th>6281483</th>\n",
       "      <td>646</td>\n",
       "      <td>CASH_OUT</td>\n",
       "      <td>0.0</td>\n",
       "      <td>C2060908932</td>\n",
       "      <td>0.0</td>\n",
       "      <td>0.0</td>\n",
       "      <td>C1587892888</td>\n",
       "      <td>0.00</td>\n",
       "      <td>0.00</td>\n",
       "      <td>1</td>\n",
       "      <td>0</td>\n",
       "    </tr>\n",
       "    <tr>\n",
       "      <th>6281485</th>\n",
       "      <td>646</td>\n",
       "      <td>CASH_OUT</td>\n",
       "      <td>0.0</td>\n",
       "      <td>C1997645312</td>\n",
       "      <td>0.0</td>\n",
       "      <td>0.0</td>\n",
       "      <td>C601248796</td>\n",
       "      <td>0.00</td>\n",
       "      <td>0.00</td>\n",
       "      <td>1</td>\n",
       "      <td>0</td>\n",
       "    </tr>\n",
       "    <tr>\n",
       "      <th>6296015</th>\n",
       "      <td>671</td>\n",
       "      <td>CASH_OUT</td>\n",
       "      <td>0.0</td>\n",
       "      <td>C1960007029</td>\n",
       "      <td>0.0</td>\n",
       "      <td>0.0</td>\n",
       "      <td>C459118517</td>\n",
       "      <td>27938.72</td>\n",
       "      <td>27938.72</td>\n",
       "      <td>1</td>\n",
       "      <td>0</td>\n",
       "    </tr>\n",
       "    <tr>\n",
       "      <th>6351226</th>\n",
       "      <td>702</td>\n",
       "      <td>CASH_OUT</td>\n",
       "      <td>0.0</td>\n",
       "      <td>C1461113533</td>\n",
       "      <td>0.0</td>\n",
       "      <td>0.0</td>\n",
       "      <td>C1382150537</td>\n",
       "      <td>107777.02</td>\n",
       "      <td>107777.02</td>\n",
       "      <td>1</td>\n",
       "      <td>0</td>\n",
       "    </tr>\n",
       "    <tr>\n",
       "      <th>6362461</th>\n",
       "      <td>730</td>\n",
       "      <td>CASH_OUT</td>\n",
       "      <td>0.0</td>\n",
       "      <td>C729003789</td>\n",
       "      <td>0.0</td>\n",
       "      <td>0.0</td>\n",
       "      <td>C1388096959</td>\n",
       "      <td>1008609.53</td>\n",
       "      <td>1008609.53</td>\n",
       "      <td>1</td>\n",
       "      <td>0</td>\n",
       "    </tr>\n",
       "    <tr>\n",
       "      <th>6362463</th>\n",
       "      <td>730</td>\n",
       "      <td>CASH_OUT</td>\n",
       "      <td>0.0</td>\n",
       "      <td>C2088151490</td>\n",
       "      <td>0.0</td>\n",
       "      <td>0.0</td>\n",
       "      <td>C1156763710</td>\n",
       "      <td>0.00</td>\n",
       "      <td>0.00</td>\n",
       "      <td>1</td>\n",
       "      <td>0</td>\n",
       "    </tr>\n",
       "    <tr>\n",
       "      <th>6362585</th>\n",
       "      <td>741</td>\n",
       "      <td>CASH_OUT</td>\n",
       "      <td>0.0</td>\n",
       "      <td>C312737633</td>\n",
       "      <td>0.0</td>\n",
       "      <td>0.0</td>\n",
       "      <td>C1400061387</td>\n",
       "      <td>267522.87</td>\n",
       "      <td>267522.87</td>\n",
       "      <td>1</td>\n",
       "      <td>0</td>\n",
       "    </tr>\n",
       "  </tbody>\n",
       "</table>\n",
       "</div>"
      ],
      "text/plain": [
       "         step      type  amount     nameOrig  oldbalanceOrg  newbalanceOrig  \\\n",
       "2736447   212  CASH_OUT     0.0  C1510987794            0.0             0.0   \n",
       "3247298   250  CASH_OUT     0.0   C521393327            0.0             0.0   \n",
       "3760289   279  CASH_OUT     0.0   C539112012            0.0             0.0   \n",
       "5563714   387  CASH_OUT     0.0  C1294472700            0.0             0.0   \n",
       "5996408   425  CASH_OUT     0.0   C832555372            0.0             0.0   \n",
       "5996410   425  CASH_OUT     0.0    C69493310            0.0             0.0   \n",
       "6168500   554  CASH_OUT     0.0    C10965156            0.0             0.0   \n",
       "6205440   586  CASH_OUT     0.0  C1303719003            0.0             0.0   \n",
       "6266414   617  CASH_OUT     0.0  C1971175979            0.0             0.0   \n",
       "6281483   646  CASH_OUT     0.0  C2060908932            0.0             0.0   \n",
       "6281485   646  CASH_OUT     0.0  C1997645312            0.0             0.0   \n",
       "6296015   671  CASH_OUT     0.0  C1960007029            0.0             0.0   \n",
       "6351226   702  CASH_OUT     0.0  C1461113533            0.0             0.0   \n",
       "6362461   730  CASH_OUT     0.0   C729003789            0.0             0.0   \n",
       "6362463   730  CASH_OUT     0.0  C2088151490            0.0             0.0   \n",
       "6362585   741  CASH_OUT     0.0   C312737633            0.0             0.0   \n",
       "\n",
       "            nameDest  oldbalanceDest  newbalanceDest  isFraud  isFlaggedFraud  \n",
       "2736447  C1696624817            0.00            0.00        1               0  \n",
       "3247298   C480398193            0.00            0.00        1               0  \n",
       "3760289  C1106468520       538547.63       538547.63        1               0  \n",
       "5563714  C1325541393      7970766.57      7970766.57        1               0  \n",
       "5996408  C1462759334        76759.90        76759.90        1               0  \n",
       "5996410   C719711728      2921531.34      2921531.34        1               0  \n",
       "6168500  C1493336195       230289.66       230289.66        1               0  \n",
       "6205440   C900608348      1328472.86      1328472.86        1               0  \n",
       "6266414  C1352345416            0.00            0.00        1               0  \n",
       "6281483  C1587892888            0.00            0.00        1               0  \n",
       "6281485   C601248796            0.00            0.00        1               0  \n",
       "6296015   C459118517        27938.72        27938.72        1               0  \n",
       "6351226  C1382150537       107777.02       107777.02        1               0  \n",
       "6362461  C1388096959      1008609.53      1008609.53        1               0  \n",
       "6362463  C1156763710            0.00            0.00        1               0  \n",
       "6362585  C1400061387       267522.87       267522.87        1               0  "
      ]
     },
     "execution_count": 3,
     "metadata": {},
     "output_type": "execute_result"
    }
   ],
   "source": [
    "df[df['amount']==0]\n"
   ]
  },
  {
   "cell_type": "code",
   "execution_count": 4,
   "metadata": {},
   "outputs": [],
   "source": [
    "df.drop(df[df.amount == 0].index, inplace=True)"
   ]
  },
  {
   "cell_type": "markdown",
   "metadata": {},
   "source": [
    "disini ditemukan sebuah keanehan yaitu ketika melakukan cash out, amount yang diambil tidak ada data sama sekali selain itu juga tidak ada saldo berkurang ataupun bertambah dipihak penerima ataupun yang melakukan transaksi, sehingga diputuskan untuk melakukan dropping"
   ]
  },
  {
   "cell_type": "code",
   "execution_count": 5,
   "metadata": {},
   "outputs": [
    {
     "data": {
      "text/html": [
       "<div>\n",
       "<style scoped>\n",
       "    .dataframe tbody tr th:only-of-type {\n",
       "        vertical-align: middle;\n",
       "    }\n",
       "\n",
       "    .dataframe tbody tr th {\n",
       "        vertical-align: top;\n",
       "    }\n",
       "\n",
       "    .dataframe thead th {\n",
       "        text-align: right;\n",
       "    }\n",
       "</style>\n",
       "<table border=\"1\" class=\"dataframe\">\n",
       "  <thead>\n",
       "    <tr style=\"text-align: right;\">\n",
       "      <th></th>\n",
       "      <th>step</th>\n",
       "      <th>type</th>\n",
       "      <th>amount</th>\n",
       "      <th>nameOrig</th>\n",
       "      <th>oldbalanceOrg</th>\n",
       "      <th>newbalanceOrig</th>\n",
       "      <th>nameDest</th>\n",
       "      <th>oldbalanceDest</th>\n",
       "      <th>newbalanceDest</th>\n",
       "      <th>isFraud</th>\n",
       "      <th>isFlaggedFraud</th>\n",
       "    </tr>\n",
       "  </thead>\n",
       "  <tbody>\n",
       "  </tbody>\n",
       "</table>\n",
       "</div>"
      ],
      "text/plain": [
       "Empty DataFrame\n",
       "Columns: [step, type, amount, nameOrig, oldbalanceOrg, newbalanceOrig, nameDest, oldbalanceDest, newbalanceDest, isFraud, isFlaggedFraud]\n",
       "Index: []"
      ]
     },
     "execution_count": 5,
     "metadata": {},
     "output_type": "execute_result"
    }
   ],
   "source": [
    "df[df['amount']==0]\n"
   ]
  },
  {
   "cell_type": "code",
   "execution_count": 6,
   "metadata": {},
   "outputs": [],
   "source": [
    "# menambah  kolom untuk satuan waktu jam dalam sehari\n",
    "df['hour']=df['step']%24\n",
    "df.drop(columns='step',inplace =True)"
   ]
  },
  {
   "cell_type": "markdown",
   "metadata": {},
   "source": [
    "untuk memudahkan dalam melakukan proses analisis, diputuskan untuk mengubah satuan jam dalam sebulan menjadi satuan jam dalam sehari"
   ]
  },
  {
   "cell_type": "code",
   "execution_count": 7,
   "metadata": {},
   "outputs": [
    {
     "data": {
      "text/plain": [
       "(6362604, 11)"
      ]
     },
     "execution_count": 7,
     "metadata": {},
     "output_type": "execute_result"
    }
   ],
   "source": [
    "df.shape"
   ]
  },
  {
   "cell_type": "code",
   "execution_count": 8,
   "metadata": {},
   "outputs": [
    {
     "data": {
      "text/plain": [
       "0    6354407\n",
       "1       8197\n",
       "Name: isFraud, dtype: int64"
      ]
     },
     "execution_count": 8,
     "metadata": {},
     "output_type": "execute_result"
    }
   ],
   "source": [
    "df['isFraud'].value_counts()"
   ]
  },
  {
   "cell_type": "code",
   "execution_count": 30,
   "metadata": {},
   "outputs": [
    {
     "data": {
      "image/png": "[encoded data removed]",
      "text/plain": [
       "<Figure size 432x288 with 1 Axes>"
      ]
     },
     "metadata": {},
     "output_type": "display_data"
    }
   ],
   "source": [
    "labels = 'Not Fraud', 'Fraud'\n",
    "colors = ['lightblue', 'Black']\n",
    "plt.pie(df['isFraud'].value_counts(), labels=labels, colors=colors,\n",
    "autopct='%1.1f%%', shadow=True, startangle=0)\n",
    "plt.axis('equal')\n",
    "plt.title('Fraud Distribution Percentage')\n",
    "plt.show()"
   ]
  },
  {
   "cell_type": "markdown",
   "metadata": {},
   "source": [
    "## Feature Engineering & Selection"
   ]
  },
  {
   "cell_type": "code",
   "execution_count": 9,
   "metadata": {},
   "outputs": [],
   "source": [
    "df['Type_encode'] = df['type'].map({'TRANSFER': 0, 'CASH_OUT': 1, 'PAYMENT':2, 'DEBIT':3, 'CASH_IN':4})"
   ]
  },
  {
   "cell_type": "code",
   "execution_count": 10,
   "metadata": {},
   "outputs": [
    {
     "data": {
      "text/plain": [
       "array(['PAYMENT', 'TRANSFER', 'CASH_OUT', 'DEBIT', 'CASH_IN'],\n",
       "      dtype=object)"
      ]
     },
     "execution_count": 10,
     "metadata": {},
     "output_type": "execute_result"
    }
   ],
   "source": [
    "df['type'].unique()"
   ]
  },
  {
   "cell_type": "code",
   "execution_count": 11,
   "metadata": {},
   "outputs": [
    {
     "data": {
      "text/html": [
       "<div>\n",
       "<style scoped>\n",
       "    .dataframe tbody tr th:only-of-type {\n",
       "        vertical-align: middle;\n",
       "    }\n",
       "\n",
       "    .dataframe tbody tr th {\n",
       "        vertical-align: top;\n",
       "    }\n",
       "\n",
       "    .dataframe thead th {\n",
       "        text-align: right;\n",
       "    }\n",
       "</style>\n",
       "<table border=\"1\" class=\"dataframe\">\n",
       "  <thead>\n",
       "    <tr style=\"text-align: right;\">\n",
       "      <th></th>\n",
       "      <th>type</th>\n",
       "      <th>amount</th>\n",
       "      <th>nameOrig</th>\n",
       "      <th>oldbalanceOrg</th>\n",
       "      <th>newbalanceOrig</th>\n",
       "      <th>nameDest</th>\n",
       "      <th>oldbalanceDest</th>\n",
       "      <th>newbalanceDest</th>\n",
       "      <th>isFraud</th>\n",
       "      <th>isFlaggedFraud</th>\n",
       "      <th>hour</th>\n",
       "      <th>Type_encode</th>\n",
       "    </tr>\n",
       "  </thead>\n",
       "  <tbody>\n",
       "    <tr>\n",
       "      <th>0</th>\n",
       "      <td>PAYMENT</td>\n",
       "      <td>9839.64</td>\n",
       "      <td>C1231006815</td>\n",
       "      <td>170136.0</td>\n",
       "      <td>160296.36</td>\n",
       "      <td>M1979787155</td>\n",
       "      <td>0.0</td>\n",
       "      <td>0.0</td>\n",
       "      <td>0</td>\n",
       "      <td>0</td>\n",
       "      <td>1</td>\n",
       "      <td>2</td>\n",
       "    </tr>\n",
       "    <tr>\n",
       "      <th>1</th>\n",
       "      <td>PAYMENT</td>\n",
       "      <td>1864.28</td>\n",
       "      <td>C1666544295</td>\n",
       "      <td>21249.0</td>\n",
       "      <td>19384.72</td>\n",
       "      <td>M2044282225</td>\n",
       "      <td>0.0</td>\n",
       "      <td>0.0</td>\n",
       "      <td>0</td>\n",
       "      <td>0</td>\n",
       "      <td>1</td>\n",
       "      <td>2</td>\n",
       "    </tr>\n",
       "    <tr>\n",
       "      <th>2</th>\n",
       "      <td>TRANSFER</td>\n",
       "      <td>181.00</td>\n",
       "      <td>C1305486145</td>\n",
       "      <td>181.0</td>\n",
       "      <td>0.00</td>\n",
       "      <td>C553264065</td>\n",
       "      <td>0.0</td>\n",
       "      <td>0.0</td>\n",
       "      <td>1</td>\n",
       "      <td>0</td>\n",
       "      <td>1</td>\n",
       "      <td>0</td>\n",
       "    </tr>\n",
       "    <tr>\n",
       "      <th>3</th>\n",
       "      <td>CASH_OUT</td>\n",
       "      <td>181.00</td>\n",
       "      <td>C840083671</td>\n",
       "      <td>181.0</td>\n",
       "      <td>0.00</td>\n",
       "      <td>C38997010</td>\n",
       "      <td>21182.0</td>\n",
       "      <td>0.0</td>\n",
       "      <td>1</td>\n",
       "      <td>0</td>\n",
       "      <td>1</td>\n",
       "      <td>1</td>\n",
       "    </tr>\n",
       "    <tr>\n",
       "      <th>4</th>\n",
       "      <td>PAYMENT</td>\n",
       "      <td>11668.14</td>\n",
       "      <td>C2048537720</td>\n",
       "      <td>41554.0</td>\n",
       "      <td>29885.86</td>\n",
       "      <td>M1230701703</td>\n",
       "      <td>0.0</td>\n",
       "      <td>0.0</td>\n",
       "      <td>0</td>\n",
       "      <td>0</td>\n",
       "      <td>1</td>\n",
       "      <td>2</td>\n",
       "    </tr>\n",
       "  </tbody>\n",
       "</table>\n",
       "</div>"
      ],
      "text/plain": [
       "       type    amount     nameOrig  oldbalanceOrg  newbalanceOrig  \\\n",
       "0   PAYMENT   9839.64  C1231006815       170136.0       160296.36   \n",
       "1   PAYMENT   1864.28  C1666544295        21249.0        19384.72   \n",
       "2  TRANSFER    181.00  C1305486145          181.0            0.00   \n",
       "3  CASH_OUT    181.00   C840083671          181.0            0.00   \n",
       "4   PAYMENT  11668.14  C2048537720        41554.0        29885.86   \n",
       "\n",
       "      nameDest  oldbalanceDest  newbalanceDest  isFraud  isFlaggedFraud  hour  \\\n",
       "0  M1979787155             0.0             0.0        0               0     1   \n",
       "1  M2044282225             0.0             0.0        0               0     1   \n",
       "2   C553264065             0.0             0.0        1               0     1   \n",
       "3    C38997010         21182.0             0.0        1               0     1   \n",
       "4  M1230701703             0.0             0.0        0               0     1   \n",
       "\n",
       "   Type_encode  \n",
       "0            2  \n",
       "1            2  \n",
       "2            0  \n",
       "3            1  \n",
       "4            2  "
      ]
     },
     "execution_count": 11,
     "metadata": {},
     "output_type": "execute_result"
    }
   ],
   "source": [
    "df.head()"
   ]
  },
  {
   "cell_type": "code",
   "execution_count": 12,
   "metadata": {},
   "outputs": [
    {
     "data": {
      "image/png": "[encoded data removed]",
      "text/plain": [
       "<Figure size 1440x720 with 2 Axes>"
      ]
     },
     "metadata": {
      "needs_background": "light"
     },
     "output_type": "display_data"
    }
   ],
   "source": [
    "plt.figure(figsize = (20, 10))\n",
    "sns.heatmap(df.corr(),  annot = True)\n",
    "plt.show()"
   ]
  },
  {
   "cell_type": "code",
   "execution_count": 14,
   "metadata": {},
   "outputs": [
    {
     "data": {
      "text/plain": [
       "amount            0.076784\n",
       "isFlaggedFraud    0.044152\n",
       "oldbalanceOrg     0.010185\n",
       "newbalanceDest    0.000542\n",
       "oldbalanceDest   -0.005887\n",
       "newbalanceOrig   -0.008136\n",
       "hour             -0.031413\n",
       "Type_encode      -0.040935\n",
       "Name: isFraud, dtype: float64"
      ]
     },
     "execution_count": 14,
     "metadata": {},
     "output_type": "execute_result"
    }
   ],
   "source": [
    "correlation = df.corr()\n",
    "correlation['isFraud'].sort_values(ascending = False)[1:]"
   ]
  },
  {
   "cell_type": "code",
   "execution_count": 15,
   "metadata": {},
   "outputs": [],
   "source": [
    "from sklearn.utils import resample"
   ]
  },
  {
   "cell_type": "code",
   "execution_count": 16,
   "metadata": {},
   "outputs": [],
   "source": [
    "from sklearn.model_selection import train_test_split\n"
   ]
  },
  {
   "cell_type": "markdown",
   "metadata": {},
   "source": [
    "## Feature Selection"
   ]
  },
  {
   "cell_type": "code",
   "execution_count": 17,
   "metadata": {},
   "outputs": [],
   "source": [
    "X = df.drop(columns=['isFraud','nameOrig','nameDest','type'])\n",
    "y= df['isFraud']\n",
    "\n",
    "X_train, X_test, y_train, y_test = train_test_split(X, y, train_size = .80, stratify = y,random_state = 42)"
   ]
  },
  {
   "cell_type": "code",
   "execution_count": 18,
   "metadata": {},
   "outputs": [],
   "source": [
    "df_train = pd.concat([X_train, y_train], axis=1)"
   ]
  },
  {
   "cell_type": "code",
   "execution_count": 19,
   "metadata": {},
   "outputs": [
    {
     "data": {
      "text/plain": [
       "0    5083525\n",
       "1       6558\n",
       "Name: isFraud, dtype: int64"
      ]
     },
     "execution_count": 19,
     "metadata": {},
     "output_type": "execute_result"
    }
   ],
   "source": [
    "df_train['isFraud'].value_counts()"
   ]
  },
  {
   "cell_type": "markdown",
   "metadata": {},
   "source": [
    "## Handling Imbalance Data With Undersampling"
   ]
  },
  {
   "cell_type": "code",
   "execution_count": 20,
   "metadata": {},
   "outputs": [],
   "source": [
    "non_fraud = df_train[df_train['isFraud'] == 0] ## non Fraud\n",
    "fraud = df_train[df_train['isFraud'] == 1] ## Fraud"
   ]
  },
  {
   "cell_type": "code",
   "execution_count": 21,
   "metadata": {},
   "outputs": [],
   "source": [
    "fraud_undersample = resample(non_fraud,\n",
    "                           replace=False,\n",
    "                           n_samples = len(fraud),\n",
    "                           random_state = 42)"
   ]
  },
  {
   "cell_type": "code",
   "execution_count": 22,
   "metadata": {},
   "outputs": [
    {
     "data": {
      "text/plain": [
       "1    6558\n",
       "0    6558\n",
       "Name: isFraud, dtype: int64"
      ]
     },
     "execution_count": 22,
     "metadata": {},
     "output_type": "execute_result"
    }
   ],
   "source": [
    "df_Undersampled = pd.concat([fraud_undersample, fraud])\n",
    "df_Undersampled['isFraud'].value_counts()"
   ]
  },
  {
   "cell_type": "markdown",
   "metadata": {},
   "source": [
    "## Machine Learning Preprocessing"
   ]
  },
  {
   "cell_type": "code",
   "execution_count": 23,
   "metadata": {},
   "outputs": [],
   "source": [
    "X_train_US = df_Undersampled.drop(columns='isFraud')\n",
    "y_train_US = df_Undersampled['isFraud']"
   ]
  },
  {
   "cell_type": "code",
   "execution_count": 24,
   "metadata": {},
   "outputs": [
    {
     "data": {
      "text/plain": [
       "(1272521, 8)"
      ]
     },
     "execution_count": 24,
     "metadata": {},
     "output_type": "execute_result"
    }
   ],
   "source": [
    "X_test.shape"
   ]
  },
  {
   "cell_type": "code",
   "execution_count": 25,
   "metadata": {},
   "outputs": [],
   "source": [
    "from sklearn.tree import DecisionTreeClassifier\n",
    "from sklearn.neighbors import KNeighborsClassifier\n",
    "\n",
    "from sklearn.ensemble import RandomForestClassifier\n",
    "from sklearn.linear_model import LogisticRegression\n",
    "from sklearn.metrics import classification_report, confusion_matrix, recall_score, precision_score, f1_score, accuracy_score"
   ]
  },
  {
   "cell_type": "markdown",
   "metadata": {},
   "source": [
    "### Modelling"
   ]
  },
  {
   "cell_type": "markdown",
   "metadata": {},
   "source": [
    "### a.Logistic Regression"
   ]
  },
  {
   "cell_type": "code",
   "execution_count": 26,
   "metadata": {},
   "outputs": [],
   "source": [
    "Logreg = LogisticRegression()\n",
    "Logreg.fit(X_train_US, y_train_US)\n",
    "Logreg_predtrain = Logreg.predict(X_train_US)\n",
    "Logreg_predtest = Logreg.predict(X_test)"
   ]
  },
  {
   "cell_type": "code",
   "execution_count": 27,
   "metadata": {},
   "outputs": [
    {
     "name": "stdout",
     "output_type": "stream",
     "text": [
      "              precision    recall  f1-score   support\n",
      "\n",
      "           0       1.00      0.68      0.81   1270882\n",
      "           1       0.00      0.97      0.01      1639\n",
      "\n",
      "    accuracy                           0.68   1272521\n",
      "   macro avg       0.50      0.83      0.41   1272521\n",
      "weighted avg       1.00      0.68      0.81   1272521\n",
      "\n"
     ]
    }
   ],
   "source": [
    "print(classification_report(y_test, Logreg_predtest))\n",
    "\n"
   ]
  },
  {
   "cell_type": "markdown",
   "metadata": {},
   "source": [
    "### b.Random Forest"
   ]
  },
  {
   "cell_type": "code",
   "execution_count": 29,
   "metadata": {},
   "outputs": [],
   "source": [
    "RF = RandomForestClassifier()\n",
    "RF.fit(X_train_US, y_train_US)\n",
    "RF_predtrain = RF.predict(X_train_US)\n",
    "RF_predtest = RF.predict(X_test)"
   ]
  },
  {
   "cell_type": "code",
   "execution_count": 30,
   "metadata": {},
   "outputs": [
    {
     "name": "stdout",
     "output_type": "stream",
     "text": [
      "              precision    recall  f1-score   support\n",
      "\n",
      "           0       1.00      0.99      0.99   1270882\n",
      "           1       0.10      0.99      0.17      1639\n",
      "\n",
      "    accuracy                           0.99   1272521\n",
      "   macro avg       0.55      0.99      0.58   1272521\n",
      "weighted avg       1.00      0.99      0.99   1272521\n",
      "\n"
     ]
    }
   ],
   "source": [
    "print(classification_report(y_test, RF_predtest))\n"
   ]
  },
  {
   "cell_type": "markdown",
   "metadata": {},
   "source": [
    "#### c.KNeighborsClassifier"
   ]
  },
  {
   "cell_type": "code",
   "execution_count": 32,
   "metadata": {},
   "outputs": [],
   "source": [
    "KNN = KNeighborsClassifier()\n",
    "KNN.fit(X_train_US, y_train_US)\n",
    "KNN_predtrain = KNN.predict(X_train_US)\n",
    "KNN_predtest = KNN.predict(X_test)"
   ]
  },
  {
   "cell_type": "code",
   "execution_count": 33,
   "metadata": {},
   "outputs": [
    {
     "name": "stdout",
     "output_type": "stream",
     "text": [
      "              precision    recall  f1-score   support\n",
      "\n",
      "           0       1.00      0.95      0.97   1270882\n",
      "           1       0.02      0.96      0.05      1639\n",
      "\n",
      "    accuracy                           0.95   1272521\n",
      "   macro avg       0.51      0.95      0.51   1272521\n",
      "weighted avg       1.00      0.95      0.97   1272521\n",
      "\n"
     ]
    }
   ],
   "source": [
    "print(classification_report(y_test, KNN_predtest))\n"
   ]
  },
  {
   "cell_type": "markdown",
   "metadata": {},
   "source": [
    "#### d. DecisionTreeClassifier"
   ]
  },
  {
   "cell_type": "code",
   "execution_count": 36,
   "metadata": {},
   "outputs": [],
   "source": [
    "DT = DecisionTreeClassifier()\n",
    "DT.fit(X_train_US, y_train_US)\n",
    "DT_predtrain = DT.predict(X_train_US)\n",
    "DT_predtest = DT.predict(X_test)"
   ]
  },
  {
   "cell_type": "code",
   "execution_count": 37,
   "metadata": {},
   "outputs": [
    {
     "name": "stdout",
     "output_type": "stream",
     "text": [
      "              precision    recall  f1-score   support\n",
      "\n",
      "           0       1.00      0.99      1.00   1270882\n",
      "           1       0.12      1.00      0.21      1639\n",
      "\n",
      "    accuracy                           0.99   1272521\n",
      "   macro avg       0.56      0.99      0.60   1272521\n",
      "weighted avg       1.00      0.99      0.99   1272521\n",
      "\n"
     ]
    }
   ],
   "source": [
    "print(classification_report(y_test, DT_predtest))\n"
   ]
  },
  {
   "cell_type": "code",
   "execution_count": 40,
   "metadata": {},
   "outputs": [
    {
     "name": "stdout",
     "output_type": "stream",
     "text": [
      "train recall LogReg: 0.9817017383348582\n",
      "test recall LogReg: 0.9743746186699207\n",
      "train recall RF: 1.0\n",
      "test recall RF: 0.9945088468578401\n",
      "train recall KNN: 0.9751448612381823\n",
      "test recall KNN: 0.9572910311165345\n",
      "train recall DT: 1.0\n",
      "test recall DT: 0.9957291031116534\n"
     ]
    }
   ],
   "source": [
    "#Logreg\n",
    "recall_logreg = recall_score(y_test, Logreg_predtest)\n",
    "acc_logreg = accuracy_score(y_test, Logreg_predtest)\n",
    "precision_logreg = precision_score(y_test, Logreg_predtest)\n",
    "f1_logreg = f1_score(y_test, Logreg_predtest)\n",
    "recall_logreg_train = recall_score(y_train_US, Logreg_predtrain)\n",
    "\n",
    "print(f\"train recall LogReg: {recall_logreg_train}\")\n",
    "print(f\"test recall LogReg: {recall_logreg}\")\n",
    "\n",
    "#Random Forest\n",
    "\n",
    "recall_RF = recall_score(y_test, RF_predtest)\n",
    "acc_RF = accuracy_score(y_test, RF_predtest)\n",
    "precision_RF = precision_score(y_test, RF_predtest)\n",
    "f1_RF = f1_score(y_test, RF_predtest)\n",
    "recall_RF_train = recall_score(y_train_US, RF_predtrain)\n",
    "\n",
    "print(f\"train recall RF: {recall_RF_train}\")\n",
    "print(f\"test recall RF: {recall_RF}\")\n",
    "\n",
    "#KNN\n",
    "\n",
    "recall_KNN = recall_score(y_test, KNN_predtest)\n",
    "acc_KNN = accuracy_score(y_test, KNN_predtest)\n",
    "precision_KNN = precision_score(y_test, KNN_predtest)\n",
    "f1_KNN = f1_score(y_test, KNN_predtest)\n",
    "recall_KNN_train = recall_score(y_train_US, KNN_predtrain)\n",
    "\n",
    "print(f\"train recall KNN: {recall_KNN_train}\")\n",
    "print(f\"test recall KNN: {recall_KNN}\")\n",
    "\n",
    "#DT\n",
    "\n",
    "recall_DT = recall_score(y_test, DT_predtest)\n",
    "acc_DT = accuracy_score(y_test, DT_predtest)\n",
    "precision_DT = precision_score(y_test, DT_predtest)\n",
    "f1_DT = f1_score(y_test, KNN_predtest)\n",
    "recall_DT_train = recall_score(y_train_US, DT_predtrain)\n",
    "\n",
    "print(f\"train recall DT: {recall_DT_train}\")\n",
    "print(f\"test recall DT: {recall_DT}\")\n"
   ]
  },
  {
   "cell_type": "code",
   "execution_count": 41,
   "metadata": {},
   "outputs": [
    {
     "data": {
      "text/html": [
       "<div>\n",
       "<style scoped>\n",
       "    .dataframe tbody tr th:only-of-type {\n",
       "        vertical-align: middle;\n",
       "    }\n",
       "\n",
       "    .dataframe tbody tr th {\n",
       "        vertical-align: top;\n",
       "    }\n",
       "\n",
       "    .dataframe thead th {\n",
       "        text-align: right;\n",
       "    }\n",
       "</style>\n",
       "<table border=\"1\" class=\"dataframe\">\n",
       "  <thead>\n",
       "    <tr style=\"text-align: right;\">\n",
       "      <th></th>\n",
       "      <th>LogReg Train</th>\n",
       "      <th>LogReg Test</th>\n",
       "      <th>KNN Train</th>\n",
       "      <th>KNN Test</th>\n",
       "      <th>RF Train</th>\n",
       "      <th>RF Test</th>\n",
       "      <th>DT Train</th>\n",
       "      <th>DT Test</th>\n",
       "    </tr>\n",
       "  </thead>\n",
       "  <tbody>\n",
       "    <tr>\n",
       "      <th>Recall</th>\n",
       "      <td>0.981702</td>\n",
       "      <td>0.974375</td>\n",
       "      <td>0.975145</td>\n",
       "      <td>0.957291</td>\n",
       "      <td>1.0</td>\n",
       "      <td>0.994509</td>\n",
       "      <td>1.0</td>\n",
       "      <td>0.995729</td>\n",
       "    </tr>\n",
       "    <tr>\n",
       "      <th>Accuracy</th>\n",
       "      <td>0.981702</td>\n",
       "      <td>0.676777</td>\n",
       "      <td>0.975145</td>\n",
       "      <td>0.949790</td>\n",
       "      <td>1.0</td>\n",
       "      <td>0.987863</td>\n",
       "      <td>1.0</td>\n",
       "      <td>0.990597</td>\n",
       "    </tr>\n",
       "    <tr>\n",
       "      <th>Precision</th>\n",
       "      <td>0.981702</td>\n",
       "      <td>0.003868</td>\n",
       "      <td>0.975145</td>\n",
       "      <td>0.023994</td>\n",
       "      <td>1.0</td>\n",
       "      <td>0.095517</td>\n",
       "      <td>1.0</td>\n",
       "      <td>0.120088</td>\n",
       "    </tr>\n",
       "    <tr>\n",
       "      <th>F1-Score</th>\n",
       "      <td>0.981702</td>\n",
       "      <td>0.007706</td>\n",
       "      <td>0.975145</td>\n",
       "      <td>0.046814</td>\n",
       "      <td>1.0</td>\n",
       "      <td>0.174294</td>\n",
       "      <td>1.0</td>\n",
       "      <td>0.046814</td>\n",
       "    </tr>\n",
       "  </tbody>\n",
       "</table>\n",
       "</div>"
      ],
      "text/plain": [
       "           LogReg Train  LogReg Test  KNN Train  KNN Test  RF Train   RF Test  \\\n",
       "Recall         0.981702     0.974375   0.975145  0.957291       1.0  0.994509   \n",
       "Accuracy       0.981702     0.676777   0.975145  0.949790       1.0  0.987863   \n",
       "Precision      0.981702     0.003868   0.975145  0.023994       1.0  0.095517   \n",
       "F1-Score       0.981702     0.007706   0.975145  0.046814       1.0  0.174294   \n",
       "\n",
       "           DT Train   DT Test  \n",
       "Recall          1.0  0.995729  \n",
       "Accuracy        1.0  0.990597  \n",
       "Precision       1.0  0.120088  \n",
       "F1-Score        1.0  0.046814  "
      ]
     },
     "execution_count": 41,
     "metadata": {},
     "output_type": "execute_result"
    }
   ],
   "source": [
    "data = {\n",
    "    \"LogReg Train\" : [recall_logreg_train],\n",
    "    \"LogReg Test\" : [recall_logreg,acc_logreg,precision_logreg,f1_logreg],\n",
    "    \"KNN Train\" : [recall_KNN_train],\n",
    "    \"KNN Test\" : [recall_KNN,acc_KNN,precision_KNN,f1_KNN],\n",
    "    \"RF Train\" : [recall_RF_train],\n",
    "    \"RF Test\" : [recall_RF,acc_RF,precision_RF,f1_RF],\n",
    "    \"DT Train\":[recall_DT_train],\n",
    "    \"DT Test\" :[recall_DT,acc_DT,precision_DT,f1_DT]\n",
    "}\n",
    "pd.DataFrame(data=data, index = ['Recall','Accuracy','Precision','F1-Score'])"
   ]
  },
  {
   "cell_type": "code",
   "execution_count": 39,
   "metadata": {},
   "outputs": [
    {
     "data": {
      "text/plain": [
       "Text(0.5, 1, 'Decision Tree Classifier')"
      ]
     },
     "execution_count": 39,
     "metadata": {},
     "output_type": "execute_result"
    },
    {
     "data": {
      "image/png": "[encoded data removed]",
      "text/plain": [
       "<Figure size 1296x1296 with 8 Axes>"
      ]
     },
     "metadata": {
      "needs_background": "light"
     },
     "output_type": "display_data"
    }
   ],
   "source": [
    "# Logistic Regressor\n",
    "plt.figure(figsize=(18, 18))\n",
    "cmLog = confusion_matrix(y_test, Logreg_predtest, labels=[1,0])\n",
    "dfLog = pd.DataFrame(data=cmLog, columns=[ 'Prediction 1', 'Prediction 0'], index = ['Actual 1', 'Actual 0'])\n",
    "plt.subplot(4,4,1)\n",
    "sns.heatmap(dfLog, annot=True,fmt='d')\n",
    "plt.title('Logistic Regression')\n",
    "\n",
    "# Random Forest Classifier\n",
    "cmRF = confusion_matrix(y_test, RF_predtest, labels=[1,0])\n",
    "dfRF = pd.DataFrame(data=cmRF, columns=[ 'Prediction 1', 'Prediction 0'], index = ['Actual 1', 'Actual 0'])\n",
    "plt.subplot(4,4,2)\n",
    "sns.heatmap(dfRF, annot=True,fmt='d')\n",
    "plt.title('Random Forest Classifier')\n",
    "\n",
    "# Kneighbors Classifier\n",
    "cmKNN = confusion_matrix(y_test, KNN_predtest, labels=[1,0])\n",
    "dfKNN = pd.DataFrame(data=cmKNN, columns=[ 'Prediction 1', 'Prediction 0'], index = ['Actual 1', 'Actual 0'])\n",
    "plt.subplot(4,4,3)\n",
    "sns.heatmap(dfKNN, annot=True,fmt='d')\n",
    "plt.title('KNeighbors Classifier')\n",
    "\n",
    "# Decision Tree Classifier\n",
    "cmDT = confusion_matrix(y_test, DT_predtest, labels=[1,0])\n",
    "dfDT = pd.DataFrame(data=cmDT, columns=[ 'Prediction 1', 'Prediction 0'], index = ['Actual 1', 'Actual 0'])\n",
    "plt.subplot(4,4,4)\n",
    "sns.heatmap(dfDT, annot=True,fmt='d')\n",
    "plt.title('Decision Tree Classifier')"
   ]
  },
  {
   "cell_type": "markdown",
   "metadata": {},
   "source": [
    "Karena hasil Tuning pada base model Random Forest Classifier dan Decision Tree Classifier sudah sangat bagus, Maka yang akan dilakukan Tuning Adalah Logistic Regression Dan KNN Clasifier Saja"
   ]
  },
  {
   "cell_type": "markdown",
   "metadata": {},
   "source": [
    "## Hyper Parameter Tuning"
   ]
  },
  {
   "cell_type": "code",
   "execution_count": 42,
   "metadata": {},
   "outputs": [],
   "source": [
    "from sklearn.model_selection import RandomizedSearchCV\n"
   ]
  },
  {
   "cell_type": "markdown",
   "metadata": {},
   "source": [
    "#### a. Logistic Regression Tuning"
   ]
  },
  {
   "cell_type": "code",
   "execution_count": 43,
   "metadata": {},
   "outputs": [
    {
     "name": "stdout",
     "output_type": "stream",
     "text": [
      "Fitting 10 folds for each of 10 candidates, totalling 100 fits\n"
     ]
    },
    {
     "name": "stderr",
     "output_type": "stream",
     "text": [
      "[Parallel(n_jobs=-1)]: Using backend LokyBackend with 4 concurrent workers.\n",
      "[Parallel(n_jobs=-1)]: Done  44 tasks      | elapsed:   13.1s\n",
      "[Parallel(n_jobs=-1)]: Done 100 out of 100 | elapsed:   13.5s finished\n"
     ]
    },
    {
     "data": {
      "text/plain": [
       "RandomizedSearchCV(cv=10, error_score=nan,\n",
       "                   estimator=LogisticRegression(C=1.0, class_weight=None,\n",
       "                                                dual=False, fit_intercept=True,\n",
       "                                                intercept_scaling=1,\n",
       "                                                l1_ratio=None, max_iter=100,\n",
       "                                                multi_class='auto', n_jobs=None,\n",
       "                                                penalty='l2', random_state=None,\n",
       "                                                solver='lbfgs', tol=0.0001,\n",
       "                                                verbose=0, warm_start=False),\n",
       "                   iid='deprecated', n_iter=10, n_jobs=-1,\n",
       "                   param_distributions={'class_weight': [<class 'dict'>,\n",
       "                                                         'balanced'],\n",
       "                                        'intercept_scaling': [1, 5, 10, 25, 100,\n",
       "                                                              500],\n",
       "                                        'max_iter': [100, 300, 500, 1000],\n",
       "                                        'penalty': ['l1', 'l2', 'elasticnet',\n",
       "                                                    'none']},\n",
       "                   pre_dispatch='2*n_jobs', random_state=None, refit=True,\n",
       "                   return_train_score=False, scoring=None, verbose=1)"
      ]
     },
     "execution_count": 43,
     "metadata": {},
     "output_type": "execute_result"
    }
   ],
   "source": [
    "Logreg_tuning = LogisticRegression()\n",
    "param_logreg = {\n",
    "    \"penalty\" : [\"l1\",\"l2\",\"elasticnet\",\"none\"],\n",
    "    \"class_weight\" : [dict, \"balanced\"],\n",
    "    \"max_iter\" : [100,300,500,1000],\n",
    "    \"intercept_scaling\" : [1,5,10,25,100,500]    \n",
    "}\n",
    "logreg_tuning = RandomizedSearchCV(estimator=Logreg_tuning, param_distributions=param_logreg, cv = 10, n_jobs=-1, verbose=1)\n",
    "logreg_tuning.fit(X_train_US, y_train_US)"
   ]
  },
  {
   "cell_type": "code",
   "execution_count": 44,
   "metadata": {},
   "outputs": [
    {
     "data": {
      "text/plain": [
       "{'penalty': 'l2',\n",
       " 'max_iter': 300,\n",
       " 'intercept_scaling': 25,\n",
       " 'class_weight': dict}"
      ]
     },
     "execution_count": 44,
     "metadata": {},
     "output_type": "execute_result"
    }
   ],
   "source": [
    "logreg_tuning.best_params_"
   ]
  },
  {
   "cell_type": "code",
   "execution_count": 45,
   "metadata": {},
   "outputs": [
    {
     "name": "stdout",
     "output_type": "stream",
     "text": [
      "train recall LogReg Tuned: 0.9817017383348582\n",
      "test recall LogReg Tuned: 0.9743746186699207\n"
     ]
    }
   ],
   "source": [
    "#Logreg Tuned\n",
    "logreg_tuned = logreg_tuning.best_estimator_\n",
    "pred_logreg_tuned = logreg_tuned.predict(X_test)\n",
    "pred_logreg_train_tuned = logreg_tuned.predict(X_train_US)\n",
    "\n",
    "recall_logreg_tuned = recall_score(y_test, pred_logreg_tuned)\n",
    "acc_logreg_tuned = accuracy_score(y_test, pred_logreg_tuned)\n",
    "precision_logreg_tuned = precision_score(y_test, pred_logreg_tuned)\n",
    "f1_logreg_tuned = f1_score(y_test, pred_logreg_tuned)\n",
    "recall_logreg_train_tuned = recall_score(y_train_US, pred_logreg_train_tuned)\n",
    "\n",
    "print(f\"train recall LogReg Tuned: {recall_logreg_train_tuned}\")\n",
    "print(f\"test recall LogReg Tuned: {recall_logreg_tuned}\")\n"
   ]
  },
  {
   "cell_type": "markdown",
   "metadata": {},
   "source": [
    "#### b.KNN Tuning"
   ]
  },
  {
   "cell_type": "code",
   "execution_count": 46,
   "metadata": {},
   "outputs": [
    {
     "name": "stdout",
     "output_type": "stream",
     "text": [
      "Fitting 10 folds for each of 10 candidates, totalling 100 fits\n"
     ]
    },
    {
     "name": "stderr",
     "output_type": "stream",
     "text": [
      "[Parallel(n_jobs=-1)]: Using backend LokyBackend with 4 concurrent workers.\n",
      "[Parallel(n_jobs=-1)]: Done  42 tasks      | elapsed:    3.8s\n",
      "[Parallel(n_jobs=-1)]: Done 100 out of 100 | elapsed:    8.5s finished\n"
     ]
    },
    {
     "data": {
      "text/plain": [
       "RandomizedSearchCV(cv=10, error_score=nan,\n",
       "                   estimator=KNeighborsClassifier(algorithm='auto',\n",
       "                                                  leaf_size=30,\n",
       "                                                  metric='minkowski',\n",
       "                                                  metric_params=None,\n",
       "                                                  n_jobs=None, n_neighbors=5,\n",
       "                                                  p=2, weights='uniform'),\n",
       "                   iid='deprecated', n_iter=10, n_jobs=-1,\n",
       "                   param_distributions={'algorithm': ['auto', 'ball_tree',\n",
       "                                                      'kd_tree', 'brute'],\n",
       "                                        'leaf_size': [1, 5, 25, 50],\n",
       "                                        'n_neighbors': [1, 25, 100, 125],\n",
       "                                        'weights': ['distance', 'uniform']},\n",
       "                   pre_dispatch='2*n_jobs', random_state=None, refit=True,\n",
       "                   return_train_score=False, scoring=None, verbose=1)"
      ]
     },
     "execution_count": 46,
     "metadata": {},
     "output_type": "execute_result"
    }
   ],
   "source": [
    "KNN_tuned = KNeighborsClassifier()\n",
    "param_KNN = {\n",
    "    \"n_neighbors\" : [1,25,100,125],\n",
    "    \"weights\" : [\"distance\",\"uniform\"],\n",
    "    \"algorithm\" : [\"auto\",\"ball_tree\", \"kd_tree\", \"brute\"],\n",
    "    \"leaf_size\" : [1,5,25,50] \n",
    "}\n",
    "KNN_tuning = RandomizedSearchCV(estimator=KNN_tuned, param_distributions=param_KNN, cv = 10, n_jobs=-1, verbose=1)\n",
    "KNN_tuning.fit(X_train_US, y_train_US)"
   ]
  },
  {
   "cell_type": "code",
   "execution_count": 47,
   "metadata": {},
   "outputs": [
    {
     "data": {
      "text/plain": [
       "{'weights': 'uniform',\n",
       " 'n_neighbors': 1,\n",
       " 'leaf_size': 1,\n",
       " 'algorithm': 'kd_tree'}"
      ]
     },
     "execution_count": 47,
     "metadata": {},
     "output_type": "execute_result"
    }
   ],
   "source": [
    "KNN_tuning.best_params_"
   ]
  },
  {
   "cell_type": "code",
   "execution_count": 48,
   "metadata": {},
   "outputs": [
    {
     "name": "stdout",
     "output_type": "stream",
     "text": [
      "train recall KNN Tuned: 1.0\n",
      "test recall KNN Tuned: 0.9664429530201343\n"
     ]
    }
   ],
   "source": [
    "KNN_Tuned = KNN_tuning.best_estimator_\n",
    "pred_KNN_tuned = KNN_Tuned.predict(X_test)\n",
    "pred_KNN_train_tuned = KNN_Tuned.predict(X_train_US)\n",
    "\n",
    "recall_KNN_tuned = recall_score(y_test, pred_KNN_tuned)\n",
    "acc_KNN_tuned = accuracy_score(y_test, pred_KNN_tuned)\n",
    "precision_KNN_tuned = precision_score(y_test, pred_KNN_tuned)\n",
    "f1_KNN_tuned = f1_score(y_test, pred_KNN_tuned)\n",
    "recall_KNN_train_tuned = recall_score(y_train_US, pred_KNN_train_tuned)\n",
    "\n",
    "print(f\"train recall KNN Tuned: {recall_KNN_train_tuned}\")\n",
    "print(f\"test recall KNN Tuned: {recall_KNN_tuned}\")"
   ]
  },
  {
   "cell_type": "code",
   "execution_count": 52,
   "metadata": {},
   "outputs": [
    {
     "data": {
      "text/html": [
       "<div>\n",
       "<style scoped>\n",
       "    .dataframe tbody tr th:only-of-type {\n",
       "        vertical-align: middle;\n",
       "    }\n",
       "\n",
       "    .dataframe tbody tr th {\n",
       "        vertical-align: top;\n",
       "    }\n",
       "\n",
       "    .dataframe thead th {\n",
       "        text-align: right;\n",
       "    }\n",
       "</style>\n",
       "<table border=\"1\" class=\"dataframe\">\n",
       "  <thead>\n",
       "    <tr style=\"text-align: right;\">\n",
       "      <th></th>\n",
       "      <th>LogReg Train</th>\n",
       "      <th>LogReg Test</th>\n",
       "      <th>KNN Train</th>\n",
       "      <th>KNN Test</th>\n",
       "      <th>RF Train</th>\n",
       "      <th>RF Test</th>\n",
       "      <th>DT Train</th>\n",
       "      <th>DT Test</th>\n",
       "      <th>LogReg Train Tuned</th>\n",
       "      <th>LogReg Test Tuned</th>\n",
       "      <th>KNN Train Tuned</th>\n",
       "      <th>KNN Test Tuned</th>\n",
       "    </tr>\n",
       "  </thead>\n",
       "  <tbody>\n",
       "    <tr>\n",
       "      <th>Recall</th>\n",
       "      <td>0.981702</td>\n",
       "      <td>0.974375</td>\n",
       "      <td>0.975145</td>\n",
       "      <td>0.957291</td>\n",
       "      <td>1.0</td>\n",
       "      <td>0.994509</td>\n",
       "      <td>1.0</td>\n",
       "      <td>0.995729</td>\n",
       "      <td>0.981702</td>\n",
       "      <td>0.974375</td>\n",
       "      <td>1.0</td>\n",
       "      <td>0.966443</td>\n",
       "    </tr>\n",
       "    <tr>\n",
       "      <th>Accuracy</th>\n",
       "      <td>0.981702</td>\n",
       "      <td>0.676777</td>\n",
       "      <td>0.975145</td>\n",
       "      <td>0.949790</td>\n",
       "      <td>1.0</td>\n",
       "      <td>0.987863</td>\n",
       "      <td>1.0</td>\n",
       "      <td>0.990597</td>\n",
       "      <td>0.981702</td>\n",
       "      <td>0.676777</td>\n",
       "      <td>1.0</td>\n",
       "      <td>0.954570</td>\n",
       "    </tr>\n",
       "    <tr>\n",
       "      <th>Precision</th>\n",
       "      <td>0.981702</td>\n",
       "      <td>0.003868</td>\n",
       "      <td>0.975145</td>\n",
       "      <td>0.023994</td>\n",
       "      <td>1.0</td>\n",
       "      <td>0.095517</td>\n",
       "      <td>1.0</td>\n",
       "      <td>0.120088</td>\n",
       "      <td>0.981702</td>\n",
       "      <td>0.003868</td>\n",
       "      <td>1.0</td>\n",
       "      <td>0.026694</td>\n",
       "    </tr>\n",
       "    <tr>\n",
       "      <th>F1-Score</th>\n",
       "      <td>0.981702</td>\n",
       "      <td>0.007706</td>\n",
       "      <td>0.975145</td>\n",
       "      <td>0.046814</td>\n",
       "      <td>1.0</td>\n",
       "      <td>0.174294</td>\n",
       "      <td>1.0</td>\n",
       "      <td>0.046814</td>\n",
       "      <td>0.981702</td>\n",
       "      <td>0.007706</td>\n",
       "      <td>1.0</td>\n",
       "      <td>0.051952</td>\n",
       "    </tr>\n",
       "  </tbody>\n",
       "</table>\n",
       "</div>"
      ],
      "text/plain": [
       "           LogReg Train  LogReg Test  KNN Train  KNN Test  RF Train   RF Test  \\\n",
       "Recall         0.981702     0.974375   0.975145  0.957291       1.0  0.994509   \n",
       "Accuracy       0.981702     0.676777   0.975145  0.949790       1.0  0.987863   \n",
       "Precision      0.981702     0.003868   0.975145  0.023994       1.0  0.095517   \n",
       "F1-Score       0.981702     0.007706   0.975145  0.046814       1.0  0.174294   \n",
       "\n",
       "           DT Train   DT Test  LogReg Train Tuned  LogReg Test Tuned  \\\n",
       "Recall          1.0  0.995729            0.981702           0.974375   \n",
       "Accuracy        1.0  0.990597            0.981702           0.676777   \n",
       "Precision       1.0  0.120088            0.981702           0.003868   \n",
       "F1-Score        1.0  0.046814            0.981702           0.007706   \n",
       "\n",
       "           KNN Train Tuned  KNN Test Tuned  \n",
       "Recall                 1.0        0.966443  \n",
       "Accuracy               1.0        0.954570  \n",
       "Precision              1.0        0.026694  \n",
       "F1-Score               1.0        0.051952  "
      ]
     },
     "execution_count": 52,
     "metadata": {},
     "output_type": "execute_result"
    }
   ],
   "source": [
    "data = {\n",
    "    \"LogReg Train\" : [recall_logreg_train],\n",
    "    \"LogReg Test\" : [recall_logreg,acc_logreg,precision_logreg,f1_logreg],\n",
    "    \"KNN Train\" : [recall_KNN_train],\n",
    "    \"KNN Test\" : [recall_KNN,acc_KNN,precision_KNN,f1_KNN],\n",
    "    \"RF Train\" : [recall_RF_train],\n",
    "    \"RF Test\" : [recall_RF,acc_RF,precision_RF,f1_RF],\n",
    "    \"DT Train\":[recall_DT_train],\n",
    "    \"DT Test\" :[recall_DT,acc_DT,precision_DT,f1_DT],\n",
    "    \"LogReg Train Tuned\" : [recall_logreg_train_tuned],\n",
    "    \"LogReg Test Tuned\" : [recall_logreg_tuned,acc_logreg_tuned,precision_logreg_tuned,f1_logreg_tuned],\n",
    "    \"KNN Train Tuned\" : [recall_KNN_train_tuned],\n",
    "    \"KNN Test Tuned\" : [recall_KNN_tuned,acc_KNN_tuned,precision_KNN_tuned,f1_KNN_tuned]\n",
    "}\n",
    "pd.DataFrame(data=data, index = ['Recall','Accuracy','Precision','F1-Score'])\n",
    "\n",
    "\n",
    "\n",
    "\n",
    "\n"
   ]
  },
  {
   "cell_type": "markdown",
   "metadata": {},
   "source": [
    "Dapat dilihat hasil Tuning Logistic Regresion tidak mengalami perubahaan, dan untuk tuning KNN mengalami kenaikan. "
   ]
  },
  {
   "cell_type": "code",
   "execution_count": 51,
   "metadata": {},
   "outputs": [
    {
     "data": {
      "text/plain": [
       "Text(0.5, 1, 'KNeighbors Classifier Tuned')"
      ]
     },
     "execution_count": 51,
     "metadata": {},
     "output_type": "execute_result"
    },
    {
     "data": {
      "image/png": "[encoded data removed]",
      "text/plain": [
       "<Figure size 1296x1296 with 8 Axes>"
      ]
     },
     "metadata": {
      "needs_background": "light"
     },
     "output_type": "display_data"
    }
   ],
   "source": [
    "plt.figure(figsize=(18, 18))\n",
    "# Random Forest Classifier\n",
    "cmRF = confusion_matrix(y_test, RF_predtest, labels=[1,0])\n",
    "dfRF = pd.DataFrame(data=cmRF, columns=[ 'Prediction 1', 'Prediction 0'], index = ['Actual 1', 'Actual 0'])\n",
    "plt.subplot(4,4,1)\n",
    "sns.heatmap(dfRF, annot=True,fmt='d')\n",
    "plt.title('Random Forest Classifier')\n",
    "\n",
    "# Decision Tree Classifier\n",
    "cmDT = confusion_matrix(y_test, DT_predtest, labels=[1,0])\n",
    "dfDT = pd.DataFrame(data=cmDT, columns=[ 'Prediction 1', 'Prediction 0'], index = ['Actual 1', 'Actual 0'])\n",
    "plt.subplot(4,4,2)\n",
    "sns.heatmap(dfDT, annot=True,fmt='d')\n",
    "plt.title('Decision Tree Classifier')\n",
    "\n",
    "#Logistic Regressor Tuned\n",
    "\n",
    "cmLog = confusion_matrix(y_test, pred_logreg_tuned, labels=[1,0])\n",
    "dfLog = pd.DataFrame(data=cmLog, columns=[ 'Prediction 1', 'Prediction 0'], index = ['Actual 1', 'Actual 0'])\n",
    "plt.subplot(4,4,3)\n",
    "sns.heatmap(dfLog, annot=True,fmt='d')\n",
    "plt.title('Logistic Regression Tuned')\n",
    "#KNN Classifier Tuned\n",
    "\n",
    "cmKNN = confusion_matrix(y_test, pred_KNN_tuned, labels=[1,0])\n",
    "dfKNN = pd.DataFrame(data=cmKNN, columns=[ 'Prediction 1', 'Prediction 0'], index = ['Actual 1', 'Actual 0'])\n",
    "plt.subplot(4,4,4)\n",
    "sns.heatmap(dfKNN, annot=True,fmt='d')\n",
    "plt.title('KNeighbors Classifier Tuned')"
   ]
  },
  {
   "cell_type": "markdown",
   "metadata": {},
   "source": [
    "## Conclusion \n",
    "\n",
    "- Saya melakukan Pengujian dengan menggunakan Algoritma Logistic Regression, KNN, Randoforest, dan DT. Dari hasil menggunakan algoritma tersebut, Random Forest menjadi Best Recall Paling baik untuk pengujian di notebook ini, dengan score 99,3899%\n",
    "\n",
    "  "
   ]
  }
 ],
 "metadata": {
  "kernelspec": {
   "display_name": "Python 3",
   "language": "python",
   "name": "python3"
  },
  "language_info": {
   "codemirror_mode": {
    "name": "ipython",
    "version": 3
   },
   "file_extension": ".py",
   "mimetype": "text/x-python",
   "name": "python",
   "nbconvert_exporter": "python",
   "pygments_lexer": "ipython3",
   "version": "3.7.6"
  }
 },
 "nbformat": 4,
 "nbformat_minor": 4
}
